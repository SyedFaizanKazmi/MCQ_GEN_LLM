{
 "cells": [
  {
   "cell_type": "code",
   "execution_count": 136,
   "metadata": {},
   "outputs": [],
   "source": [
    "import os\n",
    "import json\n",
    "import pandas as pd\n",
    "import traceback"
   ]
  },
  {
   "cell_type": "code",
   "execution_count": 137,
   "metadata": {},
   "outputs": [],
   "source": [
    "from langchain.chat_models import ChatOpenAI"
   ]
  },
  {
   "cell_type": "code",
   "execution_count": 138,
   "metadata": {},
   "outputs": [
    {
     "data": {
      "text/plain": [
       "True"
      ]
     },
     "execution_count": 138,
     "metadata": {},
     "output_type": "execute_result"
    }
   ],
   "source": [
    "from dotenv import load_dotenv\n",
    "load_dotenv()"
   ]
  },
  {
   "cell_type": "code",
   "execution_count": 139,
   "metadata": {},
   "outputs": [],
   "source": [
    "api_key=os.getenv('open_ai_key')"
   ]
  },
  {
   "cell_type": "code",
   "execution_count": 140,
   "metadata": {},
   "outputs": [],
   "source": [
    "llm=ChatOpenAI(openai_api_key=api_key,model_name='gpt-3.5-turbo',temperature=0.5)"
   ]
  },
  {
   "cell_type": "code",
   "execution_count": 141,
   "metadata": {},
   "outputs": [],
   "source": [
    "from langchain.llms import OpenAI\n",
    "from langchain.prompts import PromptTemplate\n",
    "from langchain.chains import LLMChain,SequentialChain\n",
    "from langchain.callbacks import get_openai_callback\n",
    "import PyPDF2\n"
   ]
  },
  {
   "cell_type": "code",
   "execution_count": 142,
   "metadata": {},
   "outputs": [],
   "source": [
    "RESPONSE_JSON = { \n",
    "                 \"1\": { \"mcq\": \"multiple choice question\", \n",
    "                       \"options\": { \"a\": \"choice here\",\n",
    "                                   \"b\": \"choice here\", \n",
    "                                   \"C\": \"choice here\", \n",
    "                                   \"d\": \"choice here\", }\n",
    "                       , \"correct\": \"correct answer\", },\n",
    "                 \"2\": { \"mcq\": \"multiple choice question\", \n",
    "                       \"options\": { \"a\": \"choice here\",\n",
    "                                   \"b\": \"choice here\", \n",
    "                                   \"C\": \"choice here\", \n",
    "                                   \"d\": \"choice here\", }\n",
    "                       , \"correct\": \"correct answer\", },\n",
    "                 \"3\": { \"mcq\": \"multiple choice question\", \n",
    "                       \"options\": { \"a\": \"choice here\",\n",
    "                                   \"b\": \"choice here\", \n",
    "                                   \"C\": \"choice here\", \n",
    "                                   \"d\": \"choice here\", }\n",
    "                       , \"correct\": \"correct answer\", },\n",
    "                 \n",
    "                 }"
   ]
  },
  {
   "cell_type": "code",
   "execution_count": 143,
   "metadata": {},
   "outputs": [],
   "source": [
    "mcq_prompt = PromptTemplate(\n",
    "    input_variables=['number', 'response_json', 'subject', 'text', 'tone'],\n",
    "    template=\"\"\"\n",
    "    Text: {text}\n",
    "    You are an expert MCQ maker. Given the above text, it is your job to create a quiz of {number} multiple choice questions for {subject} students in {tone} tone.\n",
    "    Make sure the questions are not repeated and check all the questions to be conforming the text as well.\n",
    "    Make sure to format your response like RESPONSE_JSON below and use it as a guide. Ensure to make {number} MCQs.\n",
    "    ### RESPONSE_JSON\n",
    "    {response_json}\n",
    "    \"\"\"\n",
    ")"
   ]
  },
  {
   "cell_type": "code",
   "execution_count": 144,
   "metadata": {},
   "outputs": [],
   "source": [
    "quiz_chain=LLMChain(llm=llm,prompt=mcq_prompt,output_key='quiz',verbose=True)"
   ]
  },
  {
   "cell_type": "code",
   "execution_count": 145,
   "metadata": {},
   "outputs": [],
   "source": [
    "evaluation_prompt = PromptTemplate(\n",
    "    input_variables=['quiz', 'subject'],\n",
    "    template=\"\"\"\n",
    "    You are an expert English grammarian and writer. Given a Multiple Choice Quiz for {subject} students,\n",
    "    you need to evaluate the complexity of the question and give a complete analysis of the quiz. Only use at max 50 words for complexity.\n",
    "    If the quiz is not at par with the cognitive and analytical abilities of the students,\n",
    "    update the quiz questions which need to be changed and change the tone such that it perfectly fits the student's abilities.\n",
    "    Quiz_MCQs: {quiz}\n",
    "    Check from an expert English Writer of the above quiz:\n",
    "    \"\"\"\n",
    ")"
   ]
  },
  {
   "cell_type": "code",
   "execution_count": 146,
   "metadata": {},
   "outputs": [],
   "source": [
    "review_chain=LLMChain(llm=llm,prompt=evaluation_prompt,output_key='review',verbose=True)"
   ]
  },
  {
   "cell_type": "code",
   "execution_count": 147,
   "metadata": {},
   "outputs": [],
   "source": [
    "generate_evaluate_chain=SequentialChain(chains=[quiz_chain,review_chain],input_variables=['number', 'response_json', 'subject', 'text', 'tone'],output_variables=['quiz','review'])"
   ]
  },
  {
   "cell_type": "code",
   "execution_count": 148,
   "metadata": {},
   "outputs": [
    {
     "data": {
      "text/plain": [
       "SequentialChain(chains=[LLMChain(verbose=True, prompt=PromptTemplate(input_variables=['number', 'response_json', 'subject', 'text', 'tone'], template='\\n    Text: {text}\\n    You are an expert MCQ maker. Given the above text, it is your job to create a quiz of {number} multiple choice questions for {subject} students in {tone} tone.\\n    Make sure the questions are not repeated and check all the questions to be conforming the text as well.\\n    Make sure to format your response like RESPONSE_JSON below and use it as a guide. Ensure to make {number} MCQs.\\n    ### RESPONSE_JSON\\n    {response_json}\\n    '), llm=ChatOpenAI(client=<openai.resources.chat.completions.Completions object at 0x0000021496AF0610>, async_client=<openai.resources.chat.completions.AsyncCompletions object at 0x0000021496B73290>, temperature=0.5, openai_api_key='sk-proj-xyYlwlT8Ozf8VnApBsPBT3BlbkFJqMDbaALTSQUXfZjFTrpa', openai_proxy=''), output_key='quiz'), LLMChain(verbose=True, prompt=PromptTemplate(input_variables=['quiz', 'subject'], template=\"\\n    You are an expert English grammarian and writer. Given a Multiple Choice Quiz for {subject} students,\\n    you need to evaluate the complexity of the question and give a complete analysis of the quiz. Only use at max 50 words for complexity.\\n    If the quiz is not at par with the cognitive and analytical abilities of the students,\\n    update the quiz questions which need to be changed and change the tone such that it perfectly fits the student's abilities.\\n    Quiz_MCQs: {quiz}\\n    Check from an expert English Writer of the above quiz:\\n    \"), llm=ChatOpenAI(client=<openai.resources.chat.completions.Completions object at 0x0000021496AF0610>, async_client=<openai.resources.chat.completions.AsyncCompletions object at 0x0000021496B73290>, temperature=0.5, openai_api_key='sk-proj-xyYlwlT8Ozf8VnApBsPBT3BlbkFJqMDbaALTSQUXfZjFTrpa', openai_proxy=''), output_key='review')], input_variables=['number', 'response_json', 'subject', 'text', 'tone'], output_variables=['quiz', 'review'])"
      ]
     },
     "execution_count": 148,
     "metadata": {},
     "output_type": "execute_result"
    }
   ],
   "source": [
    "generate_evaluate_chain"
   ]
  },
  {
   "cell_type": "code",
   "execution_count": 149,
   "metadata": {},
   "outputs": [],
   "source": [
    "file_path='F:\\MCQ_GEN_LLM\\data.txt'"
   ]
  },
  {
   "cell_type": "code",
   "execution_count": 150,
   "metadata": {},
   "outputs": [],
   "source": [
    "with open(file_path,'r') as file:\n",
    "    data=file.read()"
   ]
  },
  {
   "cell_type": "code",
   "execution_count": 151,
   "metadata": {},
   "outputs": [
    {
     "data": {
      "text/plain": [
       "'Data science and data analysis are both important disciplines in the field of data management and analysis, but they differ in several key ways. While both fields involve working with data, data science is more of an interdisciplinary field that involves the application of statistical, computational, and machine learning methods to extract insights from data and make predictions, while data analysis is more focused on the examination and interpretation of data to identify patterns and trends.[37][38]\\n\\nData analysis typically involves working with smaller, structured datasets to answer specific questions or solve specific problems. This can involve tasks such as data cleaning, data visualization, and exploratory data analysis to gain insights into the data and develop hypotheses about relationships between variables. Data analysts typically use statistical methods to test these hypotheses and draw conclusions from the data. For example, a data analyst might analyze sales data to identify trends in customer behavior and make recommendations for marketing strategies.[37]\\n\\nData science, on the other hand, is a more complex and iterative process that involves working with larger, more complex datasets that often require advanced computational and statistical methods to analyze. Data scientists often work with unstructured data such as text or images and use machine learning algorithms to build predictive models and make data-driven decisions. In addition to statistical analysis, data science often involves tasks such as data preprocessing, feature engineering, and model selection. For instance, a data scientist might develop a recommendation system for an e-commerce platform by analyzing user behavior patterns and using machine learning algorithms to predict user preferences.[38][39]\\n\\nWhile data analysis focuses on extracting insights from existing data, data science goes beyond that by incorporating the development and implementation of predictive models to make informed decisions. Data scientists are often responsible for collecting and cleaning data, selecting appropriate analytical techniques, and deploying models in real-world scenarios. They work at the intersection of mathematics, computer science, and domain expertise to solve complex problems and uncover hidden patterns in large datasets.[38]\\n\\nDespite these differences, data science and data analysis are closely related fields and often require similar skill sets. Both fields require a solid foundation in statistics, programming, and data visualization, as well as the ability to communicate findings effectively to both technical and non-technical audiences. Both fields benefit from critical thinking and domain knowledge, as understanding the context and nuances of the data is essential for accurate analysis and modeling.[37][38]\\n\\nIn summary, data analysis and data science are distinct yet interconnected disciplines within the broader field of data management and analysis. Data analysis focuses on extracting insights and drawing conclusions from structured data, while data science involves a more comprehensive approach that combines statistical analysis, computational methods, and machine learning to extract insights, build predictive models, and drive data-driven decision-making. Both fields use data to understand patterns, make informed decisions, and solve complex problems across various domains.'"
      ]
     },
     "execution_count": 151,
     "metadata": {},
     "output_type": "execute_result"
    }
   ],
   "source": [
    "data"
   ]
  },
  {
   "cell_type": "code",
   "execution_count": 152,
   "metadata": {},
   "outputs": [
    {
     "data": {
      "text/plain": [
       "'{\"1\": {\"mcq\": \"multiple choice question\", \"options\": {\"a\": \"choice here\", \"b\": \"choice here\", \"C\": \"choice here\", \"d\": \"choice here\"}, \"correct\": \"correct answer\"}, \"2\": {\"mcq\": \"multiple choice question\", \"options\": {\"a\": \"choice here\", \"b\": \"choice here\", \"C\": \"choice here\", \"d\": \"choice here\"}, \"correct\": \"correct answer\"}, \"3\": {\"mcq\": \"multiple choice question\", \"options\": {\"a\": \"choice here\", \"b\": \"choice here\", \"C\": \"choice here\", \"d\": \"choice here\"}, \"correct\": \"correct answer\"}}'"
      ]
     },
     "execution_count": 152,
     "metadata": {},
     "output_type": "execute_result"
    }
   ],
   "source": [
    "json.dumps(RESPONSE_JSON)"
   ]
  },
  {
   "cell_type": "code",
   "execution_count": 153,
   "metadata": {},
   "outputs": [],
   "source": [
    "Number=5\n",
    "Subject='data analysis'\n",
    "Tone='Hard'"
   ]
  },
  {
   "cell_type": "code",
   "execution_count": 154,
   "metadata": {},
   "outputs": [],
   "source": [
    "input_data = {\n",
    "    'number': Number,\n",
    "    'response_json': json.dumps(RESPONSE_JSON),\n",
    "    'subject': Subject,\n",
    "    'text': data,\n",
    "    'tone': Tone\n",
    "}"
   ]
  },
  {
   "cell_type": "code",
   "execution_count": 155,
   "metadata": {},
   "outputs": [
    {
     "name": "stdout",
     "output_type": "stream",
     "text": [
      "\n",
      "\n",
      "\u001b[1m> Entering new LLMChain chain...\u001b[0m\n",
      "Prompt after formatting:\n",
      "\u001b[32;1m\u001b[1;3m\n",
      "    Text: Data science and data analysis are both important disciplines in the field of data management and analysis, but they differ in several key ways. While both fields involve working with data, data science is more of an interdisciplinary field that involves the application of statistical, computational, and machine learning methods to extract insights from data and make predictions, while data analysis is more focused on the examination and interpretation of data to identify patterns and trends.[37][38]\n",
      "\n",
      "Data analysis typically involves working with smaller, structured datasets to answer specific questions or solve specific problems. This can involve tasks such as data cleaning, data visualization, and exploratory data analysis to gain insights into the data and develop hypotheses about relationships between variables. Data analysts typically use statistical methods to test these hypotheses and draw conclusions from the data. For example, a data analyst might analyze sales data to identify trends in customer behavior and make recommendations for marketing strategies.[37]\n",
      "\n",
      "Data science, on the other hand, is a more complex and iterative process that involves working with larger, more complex datasets that often require advanced computational and statistical methods to analyze. Data scientists often work with unstructured data such as text or images and use machine learning algorithms to build predictive models and make data-driven decisions. In addition to statistical analysis, data science often involves tasks such as data preprocessing, feature engineering, and model selection. For instance, a data scientist might develop a recommendation system for an e-commerce platform by analyzing user behavior patterns and using machine learning algorithms to predict user preferences.[38][39]\n",
      "\n",
      "While data analysis focuses on extracting insights from existing data, data science goes beyond that by incorporating the development and implementation of predictive models to make informed decisions. Data scientists are often responsible for collecting and cleaning data, selecting appropriate analytical techniques, and deploying models in real-world scenarios. They work at the intersection of mathematics, computer science, and domain expertise to solve complex problems and uncover hidden patterns in large datasets.[38]\n",
      "\n",
      "Despite these differences, data science and data analysis are closely related fields and often require similar skill sets. Both fields require a solid foundation in statistics, programming, and data visualization, as well as the ability to communicate findings effectively to both technical and non-technical audiences. Both fields benefit from critical thinking and domain knowledge, as understanding the context and nuances of the data is essential for accurate analysis and modeling.[37][38]\n",
      "\n",
      "In summary, data analysis and data science are distinct yet interconnected disciplines within the broader field of data management and analysis. Data analysis focuses on extracting insights and drawing conclusions from structured data, while data science involves a more comprehensive approach that combines statistical analysis, computational methods, and machine learning to extract insights, build predictive models, and drive data-driven decision-making. Both fields use data to understand patterns, make informed decisions, and solve complex problems across various domains.\n",
      "    You are an expert MCQ maker. Given the above text, it is your job to create a quiz of 5 multiple choice questions for data analysis students in Hard tone.\n",
      "    Make sure the questions are not repeated and check all the questions to be conforming the text as well.\n",
      "    Make sure to format your response like RESPONSE_JSON below and use it as a guide. Ensure to make 5 MCQs.\n",
      "    ### RESPONSE_JSON\n",
      "    {\"1\": {\"mcq\": \"multiple choice question\", \"options\": {\"a\": \"choice here\", \"b\": \"choice here\", \"C\": \"choice here\", \"d\": \"choice here\"}, \"correct\": \"correct answer\"}, \"2\": {\"mcq\": \"multiple choice question\", \"options\": {\"a\": \"choice here\", \"b\": \"choice here\", \"C\": \"choice here\", \"d\": \"choice here\"}, \"correct\": \"correct answer\"}, \"3\": {\"mcq\": \"multiple choice question\", \"options\": {\"a\": \"choice here\", \"b\": \"choice here\", \"C\": \"choice here\", \"d\": \"choice here\"}, \"correct\": \"correct answer\"}}\n",
      "    \u001b[0m\n",
      "\n",
      "\u001b[1m> Finished chain.\u001b[0m\n",
      "\n",
      "\n",
      "\u001b[1m> Entering new LLMChain chain...\u001b[0m\n",
      "Prompt after formatting:\n",
      "\u001b[32;1m\u001b[1;3m\n",
      "    You are an expert English grammarian and writer. Given a Multiple Choice Quiz for data analysis students,\n",
      "    you need to evaluate the complexity of the question and give a complete analysis of the quiz. Only use at max 50 words for complexity.\n",
      "    If the quiz is not at par with the cognitive and analytical abilities of the students,\n",
      "    update the quiz questions which need to be changed and change the tone such that it perfectly fits the student's abilities.\n",
      "    Quiz_MCQs: {\n",
      "    \"1\": {\n",
      "        \"mcq\": \"What is the main focus of data analysis?\",\n",
      "        \"options\": {\n",
      "            \"a\": \"Building predictive models\",\n",
      "            \"b\": \"Examining and interpreting data\",\n",
      "            \"c\": \"Working with unstructured data\",\n",
      "            \"d\": \"Implementing machine learning algorithms\"\n",
      "        },\n",
      "        \"correct\": \"b\"\n",
      "    },\n",
      "    \"2\": {\n",
      "        \"mcq\": \"What type of datasets does data analysis typically work with?\",\n",
      "        \"options\": {\n",
      "            \"a\": \"Small, structured datasets\",\n",
      "            \"b\": \"Large, complex datasets\",\n",
      "            \"c\": \"Unstructured data\",\n",
      "            \"d\": \"Text or images\"\n",
      "        },\n",
      "        \"correct\": \"a\"\n",
      "    },\n",
      "    \"3\": {\n",
      "        \"mcq\": \"What is a common task in data analysis to gain insights into the data?\",\n",
      "        \"options\": {\n",
      "            \"a\": \"Data preprocessing\",\n",
      "            \"b\": \"Feature engineering\",\n",
      "            \"c\": \"Data visualization\",\n",
      "            \"d\": \"Model selection\"\n",
      "        },\n",
      "        \"correct\": \"c\"\n",
      "    },\n",
      "    \"4\": {\n",
      "        \"mcq\": \"What is the main goal of data science?\",\n",
      "        \"options\": {\n",
      "            \"a\": \"Identifying patterns and trends\",\n",
      "            \"b\": \"Making informed decisions\",\n",
      "            \"c\": \"Building predictive models\",\n",
      "            \"d\": \"Data cleaning\"\n",
      "        },\n",
      "        \"correct\": \"c\"\n",
      "    },\n",
      "    \"5\": {\n",
      "        \"mcq\": \"What is a key difference between data analysis and data science?\",\n",
      "        \"options\": {\n",
      "            \"a\": \"Data analysis uses machine learning algorithms\",\n",
      "            \"b\": \"Data science focuses on structured data\",\n",
      "            \"c\": \"Data analysis is more iterative\",\n",
      "            \"d\": \"Data science involves working with larger, more complex datasets\"\n",
      "        },\n",
      "        \"correct\": \"d\"\n",
      "    }\n",
      "}\n",
      "    Check from an expert English Writer of the above quiz:\n",
      "    \u001b[0m\n",
      "\n",
      "\u001b[1m> Finished chain.\u001b[0m\n"
     ]
    }
   ],
   "source": [
    "with get_openai_callback() as cb:\n",
    "    response=generate_evaluate_chain(input_data)"
   ]
  },
  {
   "cell_type": "code",
   "execution_count": 156,
   "metadata": {},
   "outputs": [
    {
     "data": {
      "text/plain": [
       "{'number': 5,\n",
       " 'response_json': '{\"1\": {\"mcq\": \"multiple choice question\", \"options\": {\"a\": \"choice here\", \"b\": \"choice here\", \"C\": \"choice here\", \"d\": \"choice here\"}, \"correct\": \"correct answer\"}, \"2\": {\"mcq\": \"multiple choice question\", \"options\": {\"a\": \"choice here\", \"b\": \"choice here\", \"C\": \"choice here\", \"d\": \"choice here\"}, \"correct\": \"correct answer\"}, \"3\": {\"mcq\": \"multiple choice question\", \"options\": {\"a\": \"choice here\", \"b\": \"choice here\", \"C\": \"choice here\", \"d\": \"choice here\"}, \"correct\": \"correct answer\"}}',\n",
       " 'subject': 'data analysis',\n",
       " 'text': 'Data science and data analysis are both important disciplines in the field of data management and analysis, but they differ in several key ways. While both fields involve working with data, data science is more of an interdisciplinary field that involves the application of statistical, computational, and machine learning methods to extract insights from data and make predictions, while data analysis is more focused on the examination and interpretation of data to identify patterns and trends.[37][38]\\n\\nData analysis typically involves working with smaller, structured datasets to answer specific questions or solve specific problems. This can involve tasks such as data cleaning, data visualization, and exploratory data analysis to gain insights into the data and develop hypotheses about relationships between variables. Data analysts typically use statistical methods to test these hypotheses and draw conclusions from the data. For example, a data analyst might analyze sales data to identify trends in customer behavior and make recommendations for marketing strategies.[37]\\n\\nData science, on the other hand, is a more complex and iterative process that involves working with larger, more complex datasets that often require advanced computational and statistical methods to analyze. Data scientists often work with unstructured data such as text or images and use machine learning algorithms to build predictive models and make data-driven decisions. In addition to statistical analysis, data science often involves tasks such as data preprocessing, feature engineering, and model selection. For instance, a data scientist might develop a recommendation system for an e-commerce platform by analyzing user behavior patterns and using machine learning algorithms to predict user preferences.[38][39]\\n\\nWhile data analysis focuses on extracting insights from existing data, data science goes beyond that by incorporating the development and implementation of predictive models to make informed decisions. Data scientists are often responsible for collecting and cleaning data, selecting appropriate analytical techniques, and deploying models in real-world scenarios. They work at the intersection of mathematics, computer science, and domain expertise to solve complex problems and uncover hidden patterns in large datasets.[38]\\n\\nDespite these differences, data science and data analysis are closely related fields and often require similar skill sets. Both fields require a solid foundation in statistics, programming, and data visualization, as well as the ability to communicate findings effectively to both technical and non-technical audiences. Both fields benefit from critical thinking and domain knowledge, as understanding the context and nuances of the data is essential for accurate analysis and modeling.[37][38]\\n\\nIn summary, data analysis and data science are distinct yet interconnected disciplines within the broader field of data management and analysis. Data analysis focuses on extracting insights and drawing conclusions from structured data, while data science involves a more comprehensive approach that combines statistical analysis, computational methods, and machine learning to extract insights, build predictive models, and drive data-driven decision-making. Both fields use data to understand patterns, make informed decisions, and solve complex problems across various domains.',\n",
       " 'tone': 'Hard',\n",
       " 'quiz': '{\\n    \"1\": {\\n        \"mcq\": \"What is the main focus of data analysis?\",\\n        \"options\": {\\n            \"a\": \"Building predictive models\",\\n            \"b\": \"Examining and interpreting data\",\\n            \"c\": \"Working with unstructured data\",\\n            \"d\": \"Implementing machine learning algorithms\"\\n        },\\n        \"correct\": \"b\"\\n    },\\n    \"2\": {\\n        \"mcq\": \"What type of datasets does data analysis typically work with?\",\\n        \"options\": {\\n            \"a\": \"Small, structured datasets\",\\n            \"b\": \"Large, complex datasets\",\\n            \"c\": \"Unstructured data\",\\n            \"d\": \"Text or images\"\\n        },\\n        \"correct\": \"a\"\\n    },\\n    \"3\": {\\n        \"mcq\": \"What is a common task in data analysis to gain insights into the data?\",\\n        \"options\": {\\n            \"a\": \"Data preprocessing\",\\n            \"b\": \"Feature engineering\",\\n            \"c\": \"Data visualization\",\\n            \"d\": \"Model selection\"\\n        },\\n        \"correct\": \"c\"\\n    },\\n    \"4\": {\\n        \"mcq\": \"What is the main goal of data science?\",\\n        \"options\": {\\n            \"a\": \"Identifying patterns and trends\",\\n            \"b\": \"Making informed decisions\",\\n            \"c\": \"Building predictive models\",\\n            \"d\": \"Data cleaning\"\\n        },\\n        \"correct\": \"c\"\\n    },\\n    \"5\": {\\n        \"mcq\": \"What is a key difference between data analysis and data science?\",\\n        \"options\": {\\n            \"a\": \"Data analysis uses machine learning algorithms\",\\n            \"b\": \"Data science focuses on structured data\",\\n            \"c\": \"Data analysis is more iterative\",\\n            \"d\": \"Data science involves working with larger, more complex datasets\"\\n        },\\n        \"correct\": \"d\"\\n    }\\n}',\n",
       " 'review': \"The complexity of the quiz is suitable for data analysis students. The questions cover fundamental concepts and terminology in a clear and concise manner. No changes are needed as the tone and difficulty level align well with the target audience's abilities.\"}"
      ]
     },
     "execution_count": 156,
     "metadata": {},
     "output_type": "execute_result"
    }
   ],
   "source": [
    "response"
   ]
  },
  {
   "cell_type": "code",
   "execution_count": 157,
   "metadata": {},
   "outputs": [
    {
     "name": "stdout",
     "output_type": "stream",
     "text": [
      "total tokens:  1759\n",
      "Prompt tokens:  1321\n",
      "completion tokens:  438\n",
      "total cost:  0.0028575000000000007\n"
     ]
    }
   ],
   "source": [
    "print(f\"total tokens: \",cb.total_tokens)\n",
    "print(f\"Prompt tokens: \",cb.prompt_tokens)\n",
    "print(f\"completion tokens: \",cb.completion_tokens)\n",
    "print(f\"total cost: \",cb.total_cost)"
   ]
  },
  {
   "cell_type": "code",
   "execution_count": 158,
   "metadata": {},
   "outputs": [],
   "source": [
    "quiz=response.get('quiz')"
   ]
  },
  {
   "cell_type": "code",
   "execution_count": 159,
   "metadata": {},
   "outputs": [],
   "source": [
    "ans=json.loads(quiz)"
   ]
  },
  {
   "cell_type": "code",
   "execution_count": 161,
   "metadata": {},
   "outputs": [
    {
     "data": {
      "text/plain": [
       "{'1': {'mcq': 'What is the main focus of data analysis?',\n",
       "  'options': {'a': 'Building predictive models',\n",
       "   'b': 'Examining and interpreting data',\n",
       "   'c': 'Working with unstructured data',\n",
       "   'd': 'Implementing machine learning algorithms'},\n",
       "  'correct': 'b'},\n",
       " '2': {'mcq': 'What type of datasets does data analysis typically work with?',\n",
       "  'options': {'a': 'Small, structured datasets',\n",
       "   'b': 'Large, complex datasets',\n",
       "   'c': 'Unstructured data',\n",
       "   'd': 'Text or images'},\n",
       "  'correct': 'a'},\n",
       " '3': {'mcq': 'What is a common task in data analysis to gain insights into the data?',\n",
       "  'options': {'a': 'Data preprocessing',\n",
       "   'b': 'Feature engineering',\n",
       "   'c': 'Data visualization',\n",
       "   'd': 'Model selection'},\n",
       "  'correct': 'c'},\n",
       " '4': {'mcq': 'What is the main goal of data science?',\n",
       "  'options': {'a': 'Identifying patterns and trends',\n",
       "   'b': 'Making informed decisions',\n",
       "   'c': 'Building predictive models',\n",
       "   'd': 'Data cleaning'},\n",
       "  'correct': 'c'},\n",
       " '5': {'mcq': 'What is a key difference between data analysis and data science?',\n",
       "  'options': {'a': 'Data analysis uses machine learning algorithms',\n",
       "   'b': 'Data science focuses on structured data',\n",
       "   'c': 'Data analysis is more iterative',\n",
       "   'd': 'Data science involves working with larger, more complex datasets'},\n",
       "  'correct': 'd'}}"
      ]
     },
     "execution_count": 161,
     "metadata": {},
     "output_type": "execute_result"
    }
   ],
   "source": [
    "ans"
   ]
  },
  {
   "cell_type": "code",
   "execution_count": 163,
   "metadata": {},
   "outputs": [],
   "source": [
    "quiz_data=[]\n",
    "for key,value in ans.items():\n",
    "    mcq=value['mcq']\n",
    "    options=\" | \".join(\n",
    "        [\n",
    "            f\"option : {options}\"\n",
    "            for option,options in value['options'].items()\n",
    "        ]\n",
    "    )\n",
    "    correct=value['correct']\n",
    "    quiz_data.append({\n",
    "        \"mcq\":mcq,\n",
    "        \"Choices\":options,\n",
    "        \"Answer\":correct\n",
    "    })"
   ]
  },
  {
   "cell_type": "code",
   "execution_count": 164,
   "metadata": {},
   "outputs": [
    {
     "data": {
      "text/plain": [
       "[{'mcq': 'What is the main focus of data analysis?',\n",
       "  'Choices': 'option : Building predictive models | option : Examining and interpreting data | option : Working with unstructured data | option : Implementing machine learning algorithms',\n",
       "  'Answer': 'b'},\n",
       " {'mcq': 'What type of datasets does data analysis typically work with?',\n",
       "  'Choices': 'option : Small, structured datasets | option : Large, complex datasets | option : Unstructured data | option : Text or images',\n",
       "  'Answer': 'a'},\n",
       " {'mcq': 'What is a common task in data analysis to gain insights into the data?',\n",
       "  'Choices': 'option : Data preprocessing | option : Feature engineering | option : Data visualization | option : Model selection',\n",
       "  'Answer': 'c'},\n",
       " {'mcq': 'What is the main goal of data science?',\n",
       "  'Choices': 'option : Identifying patterns and trends | option : Making informed decisions | option : Building predictive models | option : Data cleaning',\n",
       "  'Answer': 'c'},\n",
       " {'mcq': 'What is a key difference between data analysis and data science?',\n",
       "  'Choices': 'option : Data analysis uses machine learning algorithms | option : Data science focuses on structured data | option : Data analysis is more iterative | option : Data science involves working with larger, more complex datasets',\n",
       "  'Answer': 'd'}]"
      ]
     },
     "execution_count": 164,
     "metadata": {},
     "output_type": "execute_result"
    }
   ],
   "source": [
    "quiz_data"
   ]
  },
  {
   "cell_type": "code",
   "execution_count": 165,
   "metadata": {},
   "outputs": [
    {
     "data": {
      "text/html": [
       "<div>\n",
       "<style scoped>\n",
       "    .dataframe tbody tr th:only-of-type {\n",
       "        vertical-align: middle;\n",
       "    }\n",
       "\n",
       "    .dataframe tbody tr th {\n",
       "        vertical-align: top;\n",
       "    }\n",
       "\n",
       "    .dataframe thead th {\n",
       "        text-align: right;\n",
       "    }\n",
       "</style>\n",
       "<table border=\"1\" class=\"dataframe\">\n",
       "  <thead>\n",
       "    <tr style=\"text-align: right;\">\n",
       "      <th></th>\n",
       "      <th>mcq</th>\n",
       "      <th>Choices</th>\n",
       "      <th>Answer</th>\n",
       "    </tr>\n",
       "  </thead>\n",
       "  <tbody>\n",
       "    <tr>\n",
       "      <th>0</th>\n",
       "      <td>What is the main focus of data analysis?</td>\n",
       "      <td>option : Building predictive models | option :...</td>\n",
       "      <td>b</td>\n",
       "    </tr>\n",
       "    <tr>\n",
       "      <th>1</th>\n",
       "      <td>What type of datasets does data analysis typic...</td>\n",
       "      <td>option : Small, structured datasets | option :...</td>\n",
       "      <td>a</td>\n",
       "    </tr>\n",
       "    <tr>\n",
       "      <th>2</th>\n",
       "      <td>What is a common task in data analysis to gain...</td>\n",
       "      <td>option : Data preprocessing | option : Feature...</td>\n",
       "      <td>c</td>\n",
       "    </tr>\n",
       "    <tr>\n",
       "      <th>3</th>\n",
       "      <td>What is the main goal of data science?</td>\n",
       "      <td>option : Identifying patterns and trends | opt...</td>\n",
       "      <td>c</td>\n",
       "    </tr>\n",
       "    <tr>\n",
       "      <th>4</th>\n",
       "      <td>What is a key difference between data analysis...</td>\n",
       "      <td>option : Data analysis uses machine learning a...</td>\n",
       "      <td>d</td>\n",
       "    </tr>\n",
       "  </tbody>\n",
       "</table>\n",
       "</div>"
      ],
      "text/plain": [
       "                                                 mcq  \\\n",
       "0           What is the main focus of data analysis?   \n",
       "1  What type of datasets does data analysis typic...   \n",
       "2  What is a common task in data analysis to gain...   \n",
       "3             What is the main goal of data science?   \n",
       "4  What is a key difference between data analysis...   \n",
       "\n",
       "                                             Choices Answer  \n",
       "0  option : Building predictive models | option :...      b  \n",
       "1  option : Small, structured datasets | option :...      a  \n",
       "2  option : Data preprocessing | option : Feature...      c  \n",
       "3  option : Identifying patterns and trends | opt...      c  \n",
       "4  option : Data analysis uses machine learning a...      d  "
      ]
     },
     "execution_count": 165,
     "metadata": {},
     "output_type": "execute_result"
    }
   ],
   "source": [
    "df=pd.DataFrame(quiz_data)\n",
    "df"
   ]
  },
  {
   "cell_type": "code",
   "execution_count": 167,
   "metadata": {},
   "outputs": [],
   "source": [
    "df.to_csv('quiz.csv',index=False)"
   ]
  }
 ],
 "metadata": {
  "kernelspec": {
   "display_name": "mcq",
   "language": "python",
   "name": "python3"
  },
  "language_info": {
   "codemirror_mode": {
    "name": "ipython",
    "version": 3
   },
   "file_extension": ".py",
   "mimetype": "text/x-python",
   "name": "python",
   "nbconvert_exporter": "python",
   "pygments_lexer": "ipython3",
   "version": "3.11.1"
  }
 },
 "nbformat": 4,
 "nbformat_minor": 2
}
